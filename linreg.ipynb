{
 "cells": [
  {
   "cell_type": "code",
   "execution_count": 1,
   "metadata": {
    "collapsed": true
   },
   "outputs": [],
   "source": [
    "import tensorflow as tf\n",
    "import numpy as np\n",
    "import matplotlib.pyplot as plt\n",
    "import matplotlib.image as mpimg\n",
    "\n",
    "%matplotlib inline\n",
    "np.set_printoptions(precision=3)"
   ]
  },
  {
   "cell_type": "code",
   "execution_count": 2,
   "metadata": {
    "collapsed": true
   },
   "outputs": [],
   "source": [
    "class Lcd(object):\n",
    "  \"\"\"An LCD like display.\n",
    "  \"\"\"\n",
    "  \n",
    "  def __init__(self, size=8):\n",
    "    \"\"\"Creates a blank size x size LCD like display.\n",
    "    \"\"\"\n",
    "    self._size = size\n",
    "    self._half = size / 2  # half size of the display\n",
    "    self._last = size - 1  # index of the last row or col\n",
    "    self.clear()\n",
    "    \n",
    "  def clear(self):\n",
    "    \"\"\"Clears this display\"\"\"\n",
    "    self._display = np.zeros((self._size, self._size), dtype=np.int32)\n",
    "    \n",
    "  def show(self, digit):\n",
    "    \"\"\"Shows the given digit on the display.\n",
    "    \n",
    "    Args:\n",
    "      digit: number\n",
    "        the number to be shown on the display\n",
    "    Returns:\n",
    "      LCD this LCD display\n",
    "    \"\"\"\n",
    "    self.clear()\n",
    "    try:\n",
    "      getattr(self, \"_%s\" % str(digit))()\n",
    "      return self\n",
    "    except AttributeError as e:\n",
    "      raise NotImplementedError(\"Unable to render %s\" % str(digit))\n",
    "    \n",
    "  def copyTo(self, mat, x, y):\n",
    "    mat.fill(0)\n",
    "    mat[x : x + self._size, y : y + self._size] = self._display\n",
    "\n",
    "  def _0(self):\n",
    "    self._display[0, :] = 1\n",
    "    self._display[self._last, :] = 1\n",
    "    self._display[:, 0] = 1\n",
    "    self._display[:, self._last] = 1\n",
    "    \n",
    "  def _1(self):\n",
    "    self._display[:, self._last] = 1\n",
    "    \n",
    "  def _2(self):\n",
    "    self._display[0, :] = 1\n",
    "    self._display[0 : self._half, self._last] = 1\n",
    "    self._display[self._half, :] = 1\n",
    "    self._display[self._last, :] = 1\n",
    "    self._display[self._half : self._size, 0] = 1\n",
    "    \n",
    "  def _3(self):\n",
    "    self._display[0, :] = 1\n",
    "    self._display[self._half, :] = 1\n",
    "    self._display[self._last, :] = 1\n",
    "    self._display[:, self._last] = 1\n",
    "    \n",
    "  def _4(self):\n",
    "    self._display[0 : self._half, 0] = 1\n",
    "    self._display[self._half, :] = 1\n",
    "    self._display[:, self._last] = 1\n",
    "\n",
    "  def _5(self):\n",
    "    self._display[0, :] = 1\n",
    "    self._display[0 : self._half, 0] = 1\n",
    "    self._display[self._half, :] = 1\n",
    "    self._display[self._half : self._size, self._last] = 1    \n",
    "    self._display[self._last, :] = 1\n",
    "    \n",
    "  def _6(self):\n",
    "    self._display[:, 0] = 1\n",
    "    self._display[self._half, :] = 1\n",
    "    self._display[self._last, :] = 1\n",
    "    self._display[self._half : self._size, self._last] = 1\n",
    "    \n",
    "  def _7(self):\n",
    "    self._display[0, :] = 1\n",
    "    self._display[:, self._last] = 1\n",
    "    \n",
    "  def _8(self):\n",
    "    self._0()\n",
    "    self._display[self._half, :] = 1\n",
    "    \n",
    "  def _9(self):\n",
    "    self._7()\n",
    "    self._display[self._half, :] = 1\n",
    "    self._display[0 : self._half, 0] = 1\n",
    "    \n",
    "  def __str__(self):\n",
    "    return str(self._display)"
   ]
  },
  {
   "cell_type": "code",
   "execution_count": 3,
   "metadata": {
    "collapsed": true
   },
   "outputs": [],
   "source": [
    "def GenerateImages(n, s, w, d):\n",
    "  \"\"\"Generates n random images of size s inside w x w matrix.\n",
    "  \n",
    "  Args:\n",
    "    n: number\n",
    "      The total number of images to generate\n",
    "    s: number\n",
    "      The size of the LCD.\n",
    "    w: number\n",
    "      The width and height of the matrix holding LCDs\n",
    "    d: number\n",
    "      The maximum number shown on any LCD\n",
    "  Returns:\n",
    "    ([n, w * w], [n]) a pair of flatten matrices with shapes and\n",
    "    a vector indicating the kind of the shape.\n",
    "  \"\"\"\n",
    "  if n <= 0:\n",
    "    return None\n",
    "  m = np.empty((0, w * w), dtype=np.int32)\n",
    "  kind = []\n",
    "  for i in range(n):\n",
    "    v = np.zeros((w, w), dtype=np.int32)\n",
    "    digit = np.random.randint(0, d + 1)\n",
    "    sx = 0 if w == s else np.random.randint(0, w - s)\n",
    "    sy = 0 if w == s else enp.random.randint(0, w - s)\n",
    "    Lcd(s).show(digit).copyTo(v, sx, sy)\n",
    "    m = np.append(m, v.reshape((1, w * w)), axis=0)\n",
    "    k = [0] * (d + 1)\n",
    "    k[digit] = 1\n",
    "    kind.append(k)\n",
    "  return (m, kind)"
   ]
  },
  {
   "cell_type": "code",
   "execution_count": 4,
   "metadata": {
    "collapsed": true
   },
   "outputs": [],
   "source": [
    "def ShowAsImages(v, pred_kind, kind_name, w):\n",
    "  \"\"\"Shows a binary, flat raster as an image.\n",
    "  \n",
    "  Args:\n",
    "    v: np.array\n",
    "      an array of bits.\n",
    "    pred_kind: np.array\n",
    "      an array of ints indicating the predicted image kind.\n",
    "    kind_name: list[string]\n",
    "      A list that has a string corresponding to each kind index.\n",
    "    w: number\n",
    "      the width and height of the image\n",
    "  \"\"\"\n",
    "  n = len(v)\n",
    "  s = np.int(np.sqrt(n))\n",
    "  fig, axes = plt.subplots(s, s)\n",
    "  fig.set_size_inches(2 * s, 2 * s)\n",
    "  fig.subplots_adjust(hspace=.6, wspace=.3)\n",
    "  \n",
    "  for i, ax in enumerate(axes.flat):\n",
    "    if i >= s * s: break\n",
    "    inverted = (1 - v[i]).reshape((w, w))\n",
    "    imgplot = ax.imshow(inverted, cmap=plt.cm.binary)\n",
    "    ax.set_xticks([])\n",
    "    ax.set_yticks([])\n",
    "    ax.set_xlabel(kind_name[np.argmax(pred_kind[i])])\n",
    "  plt.show()"
   ]
  },
  {
   "cell_type": "code",
   "execution_count": 5,
   "metadata": {
    "collapsed": true
   },
   "outputs": [],
   "source": [
    "# The width and the height of each image.\n",
    "img_size = 5\n",
    "\n",
    "# The size of each shape.\n",
    "shape_size = 5\n",
    "\n",
    "# The total number of training examples.\n",
    "example_count = 500\n",
    "\n",
    "# The number of digits (one more than the maximum digit).\n",
    "kind_count = 10\n",
    "\n",
    "# The names or labels for each kind:\n",
    "kind_names = [str(x) for x in range(kind_count)]"
   ]
  },
  {
   "cell_type": "code",
   "execution_count": 6,
   "metadata": {
    "collapsed": true
   },
   "outputs": [],
   "source": [
    "img_data, true_kind = GenerateImages(example_count, shape_size, img_size, kind_count - 1)"
   ]
  },
  {
   "cell_type": "code",
   "execution_count": 7,
   "metadata": {},
   "outputs": [
    {
     "data": {
      "image/png": "[encoded data removed]",
      "text/plain": [
       "<matplotlib.figure.Figure at 0x110ad2d90>"
      ]
     },
     "metadata": {},
     "output_type": "display_data"
    }
   ],
   "source": [
    "# Show the initial data. We have no predicated kind, so we use\n",
    "# the true kind as both true and predicted kinds.\n",
    "ShowAsImages(img_data[10 : 35, :], true_kind[10 : 35], kind_names, img_size)"
   ]
  },
  {
   "cell_type": "code",
   "execution_count": 8,
   "metadata": {
    "collapsed": true
   },
   "outputs": [],
   "source": [
    "# When learning we break data into batches. There are multiple benefits\n",
    "# of doing this. First, the learning progresses faster. We do not have\n",
    "# to learn from all examples, but rather from a small subset of them.\n",
    "class BatchMaker(object):\n",
    "  def __init__(self, img_data, kind, batch_size):\n",
    "    self.img_data_ = img_data\n",
    "    self.kind_ = kind\n",
    "    self.batch_size_ = batch_size\n",
    "    self.row_count_ = len(img_data)\n",
    "    self.index_ = 0\n",
    "    \n",
    "  def next(self):\n",
    "    img_slice = self.img_data_[self.index_ : self.index_ + self.batch_size_]\n",
    "    kind_slice = self.kind_[self.index_ : self.index_ + self.batch_size_]\n",
    "    self.index_ += self.batch_size_\n",
    "    if self.index_ >= self.row_count_:\n",
    "      self.index_ = 0\n",
    "    return (img_slice, kind_slice)"
   ]
  },
  {
   "cell_type": "code",
   "execution_count": 9,
   "metadata": {
    "collapsed": true
   },
   "outputs": [],
   "source": [
    "# Learning parameters:\n",
    "\n",
    "# The learning rate. Tells the optimizer how fast to follow the curve\n",
    "# of the plane.\n",
    "learning_rate = 0.3\n",
    "\n",
    "# The number of images we look at a single step.\n",
    "batch_size = 50\n",
    "\n",
    "# The total number of steps we are going to run the learning step\n",
    "step_count = 1000"
   ]
  },
  {
   "cell_type": "code",
   "execution_count": 10,
   "metadata": {
    "collapsed": true
   },
   "outputs": [],
   "source": [
    "# The placeholder for image bits. The first dimension is None to allow for any number\n",
    "# of images. Each linear image is converted back to img_size x img_size  matrix.\n",
    "x = tf.placeholder(tf.float32, shape=[None, img_size * img_size], name='x')\n",
    "\n",
    "# The placeholder for true classes. This is what is going to drive neural network\n",
    "# towards the correct solution.\n",
    "y_true = tf.placeholder(tf.float32, shape=[None, kind_count], name='y_true')"
   ]
  },
  {
   "cell_type": "code",
   "execution_count": 11,
   "metadata": {
    "collapsed": true
   },
   "outputs": [],
   "source": [
    "def ComputeAccuracy(session, pred_kind, true_kind):\n",
    "  \"\"\"Computes accuracy of the given predictions\n",
    "  \n",
    "  Args:\n",
    "    pred_kind: list[list[int]]\n",
    "      1-hot encoded predicted kind for all examples.\n",
    "    true_kind: list[list[int]]\n",
    "      1-hot encoded true kind for all examples.\n",
    "  Returns:\n",
    "    float between 0 and 1 representing the accuracy of the predictions.\n",
    "  \"\"\"\n",
    "  return np.mean(\n",
    "    np.equal([np.argmax(r) for r in pred_kind], \n",
    "             [np.argmax(r) for r in true_kind]).astype(np.int32))"
   ]
  },
  {
   "cell_type": "code",
   "execution_count": 12,
   "metadata": {
    "collapsed": true
   },
   "outputs": [],
   "source": [
    "# Simple model. Multiply each flattened image by (img_size * img_size) x kind_count\n",
    "# matrix. This produces a vector of size kind_count. Add bias to this vector and then\n",
    "# use softmax cross entropy to assign a unique class to each result.\n",
    "W = tf.Variable(tf.zeros([img_size * img_size, kind_count]), name=\"W\")\n",
    "b = tf.Variable(tf.zeros([kind_count]), name=\"b\")\n",
    "\n",
    "# Here y is the result of multiplying image data by weight matrix plus bias vector.\n",
    "y = tf.matmul(x, W) + b\n",
    "# The loss function tries to reduce mean between true labels and computed labels.\n",
    "loss_fn = tf.reduce_mean(\n",
    "    tf.nn.softmax_cross_entropy_with_logits(labels=y_true, logits=y))\n",
    "\n",
    "# The training step uses simple gradient descent that tries to minimize loss_fn.\n",
    "# It takes\n",
    "train_step = tf.train.GradientDescentOptimizer(learning_rate).minimize(loss_fn)"
   ]
  },
  {
   "cell_type": "code",
   "execution_count": 13,
   "metadata": {
    "collapsed": true
   },
   "outputs": [],
   "source": [
    "sess = tf.InteractiveSession()\n",
    "sess.run(tf.global_variables_initializer())\n",
    "batch_maker = BatchMaker(img_data, true_kind, batch_size)"
   ]
  },
  {
   "cell_type": "code",
   "execution_count": 14,
   "metadata": {},
   "outputs": [
    {
     "name": "stdout",
     "output_type": "stream",
     "text": [
      "Accuracy 0.432\n"
     ]
    },
    {
     "data": {
      "image/png": "[encoded data removed]",
      "text/plain": [
       "<matplotlib.figure.Figure at 0x111cb5b10>"
      ]
     },
     "metadata": {},
     "output_type": "display_data"
    }
   ],
   "source": [
    "# Run the learning algorithm for 5 steps. Compute\n",
    "# accuracy and print some predictions.\n",
    "for _ in range(5):\n",
    "  batch = batch_maker.next()\n",
    "  train_step.run(feed_dict={x: batch[0], y_true: batch[1]})\n",
    "  \n",
    "# Compute current predictions.\n",
    "pred_kind = sess.run(y, feed_dict={x: img_data})\n",
    "  \n",
    "print \"Accuracy\", ComputeAccuracy(sess, pred_kind, true_kind)\n",
    "ShowAsImages(img_data[10 : 35, :],  pred_kind[10: 35], kind_names, img_size)"
   ]
  },
  {
   "cell_type": "code",
   "execution_count": 15,
   "metadata": {
    "collapsed": true
   },
   "outputs": [],
   "source": [
    "# Run the algorithm for the remaining step_count - 5 steps we already did.\n",
    "for _ in range(step_count - 5):\n",
    "  batch = batch_maker.next()\n",
    "  train_step.run(feed_dict={x: batch[0], y_true: batch[1]})\n",
    "# Compute final predictions.\n",
    "pred_kind = y.eval(feed_dict={x: img_data})\n",
    "# Compute final weight and biases.\n",
    "W_final = sess.run(W)\n",
    "b_final = sess.run(b)"
   ]
  },
  {
   "cell_type": "code",
   "execution_count": 16,
   "metadata": {},
   "outputs": [
    {
     "name": "stdout",
     "output_type": "stream",
     "text": [
      "Accuracy 100.0%\n"
     ]
    }
   ],
   "source": [
    "print \"Accuracy %.1f%%\" % (100 * ComputeAccuracy(sess, pred_kind, true_kind))"
   ]
  },
  {
   "cell_type": "code",
   "execution_count": 17,
   "metadata": {},
   "outputs": [
    {
     "data": {
      "image/png": "[encoded data removed]",
      "text/plain": [
       "<matplotlib.figure.Figure at 0x110bbb990>"
      ]
     },
     "metadata": {},
     "output_type": "display_data"
    }
   ],
   "source": [
    "ShowAsImages(img_data[10 : 35, :], pred_kind[10 : 35], kind_names, img_size)"
   ]
  },
  {
   "cell_type": "code",
   "execution_count": 18,
   "metadata": {
    "collapsed": true
   },
   "outputs": [],
   "source": [
    "# Compute confusion matrix. If there are any errors, this shows us\n",
    "# What confuses the model. For example, initially 3 and 8 might be\n",
    "# considered very close.\n",
    "cm = sess.run(tf.contrib.metrics.confusion_matrix(tf.argmax(pred_kind, 1), \n",
    "                                                  tf.argmax(true_kind, 1)))"
   ]
  },
  {
   "cell_type": "code",
   "execution_count": 19,
   "metadata": {
    "collapsed": true
   },
   "outputs": [],
   "source": [
    "sess.close()"
   ]
  },
  {
   "cell_type": "code",
   "execution_count": 20,
   "metadata": {},
   "outputs": [
    {
     "name": "stdout",
     "output_type": "stream",
     "text": [
      "[[41  0  0  0  0  0  0  0  0  0]\n",
      " [ 0 36  0  0  0  0  0  0  0  0]\n",
      " [ 0  0 58  0  0  0  0  0  0  0]\n",
      " [ 0  0  0 54  0  0  0  0  0  0]\n",
      " [ 0  0  0  0 54  0  0  0  0  0]\n",
      " [ 0  0  0  0  0 62  0  0  0  0]\n",
      " [ 0  0  0  0  0  0 48  0  0  0]\n",
      " [ 0  0  0  0  0  0  0 46  0  0]\n",
      " [ 0  0  0  0  0  0  0  0 41  0]\n",
      " [ 0  0  0  0  0  0  0  0  0 60]]\n"
     ]
    },
    {
     "data": {
      "image/png": "[encoded data removed]",
      "text/plain": [
       "<matplotlib.figure.Figure at 0x111ca6850>"
      ]
     },
     "metadata": {},
     "output_type": "display_data"
    }
   ],
   "source": [
    "# Show the confusion matrix. We both show numeric values and\n",
    "# heatmap representation.\n",
    "print cm\n",
    "cm_img = cm.astype(np.float32) / cm.sum(axis=1)\n",
    "_ = plt.imshow(cm_img, interpolation='nearest', cmap=plt.cm.Blues)"
   ]
  },
  {
   "cell_type": "code",
   "execution_count": 21,
   "metadata": {
    "collapsed": true
   },
   "outputs": [],
   "source": [
    "def Explain(W, b, s):\n",
    "  \"\"\"Produces a series of images that explain how W favors given digit.\n",
    "  \n",
    "  Args:\n",
    "    W: np.array((s * s, 10))\n",
    "      The weights array.\n",
    "    b: np.array(10)\n",
    "      The bias vector\n",
    "    s: number\n",
    "      The size of the display.\n",
    "  \"\"\"\n",
    "  col_dgt = []\n",
    "  lcd = Lcd(s)\n",
    "  for digit in range(10):\n",
    "    v = np.matmul(lcd.show(digit)._display.reshape(1, s * s), W) + b\n",
    "    col_dgt.append((np.argmax(v), str(digit)))\n",
    "  fig, axes = plt.subplots(3, 4)\n",
    "  fig.set_size_inches(9, 6)\n",
    "  fig.subplots_adjust(hspace=.6, wspace=.3)\n",
    "  for i, ax in enumerate(axes.flat):\n",
    "    ax.set_xticks([])\n",
    "    ax.set_yticks([])\n",
    "    if i > 9:\n",
    "      ax.axison=False\n",
    "      continue\n",
    "    # Pick the column that explains digit, reshaped as display.\n",
    "    dm = W[:, col_dgt[i][0]].reshape((s, s))\n",
    "    # Plot digit matrix normalized between 0 .. 1\n",
    "    imgplot = ax.imshow((dm - dm.min()) / (dm.max() - dm.min()),\n",
    "                        cmap=plt.cm.bwr)\n",
    "    ax.set_xlabel(col_dgt[i][1])\n",
    "  plt.show()"
   ]
  },
  {
   "cell_type": "code",
   "execution_count": 22,
   "metadata": {},
   "outputs": [
    {
     "data": {
      "image/png": "[encoded data removed]",
      "text/plain": [
       "<matplotlib.figure.Figure at 0x11a490950>"
      ]
     },
     "metadata": {},
     "output_type": "display_data"
    }
   ],
   "source": [
    "Explain(W_final, b_final, shape_size)"
   ]
  },
  {
   "cell_type": "code",
   "execution_count": 23,
   "metadata": {},
   "outputs": [
    {
     "name": "stdout",
     "output_type": "stream",
     "text": [
      "0 : [[ 6.99  -1.045 -0.331 -0.97  -4.773 -0.12  -1.287  0.984  3.035 -2.482]]\n",
      "1 : [[ 0.268  6.62  -3.046  0.736  1.718 -3.64  -2.204  2.148 -1.372 -1.229]]\n",
      "2 : [[-0.354 -3.717  7.029  2.418 -3.318 -0.937 -0.961 -1.783  2.787 -1.165]]\n",
      "3 : [[-1.391 -2.373  1.346  5.874 -2.516  1.323 -1.829 -0.878  1.01  -0.566]]\n",
      "4 : [[-4.206  1.397 -3.682 -0.757  7.16  -1.329  0.612 -2.754  0.797  2.762]]\n",
      "5 : [[-0.694 -4.242 -1.404  1.85  -2.049  6.497  0.34  -2.46   1.741  0.421]]\n",
      "6 : [[-0.555 -2.527 -0.614 -1.11   2.157  2.278  8.115 -7.207  3.394 -3.931]]\n",
      "7 : [[ 1.433  2.15  -1.957  1.281 -2.763 -2.005 -6.478  7.243 -1.381  2.477]]\n",
      "8 : [[ 0.828 -3.306  1.032  0.372 -2.035  0.725  0.151 -2.516  4.928 -0.178]]\n",
      "9 : [[-3.185 -1.657 -2.676 -0.115  1.908  0.4   -3.987  1.155  1.546  6.611]]\n",
      "\n",
      "b : [-0.087  1.075  0.009 -0.347  0.146 -0.16   0.247  0.319 -0.88  -0.322]\n"
     ]
    }
   ],
   "source": [
    "lcd = Lcd(shape_size)\n",
    "for digit in range(kind_count):\n",
    "  v = np.matmul(lcd.show(digit)._display.reshape(1, shape_size * shape_size), W_final) + b_final\n",
    "  print np.argmax(v), \":\", v\n",
    "print\n",
    "print \"b :\", b_final"
   ]
  },
  {
   "cell_type": "code",
   "execution_count": null,
   "metadata": {
    "collapsed": true
   },
   "outputs": [],
   "source": []
  }
 ],
 "metadata": {
  "kernelspec": {
   "display_name": "Python 2",
   "language": "python",
   "name": "python2"
  },
  "language_info": {
   "codemirror_mode": {
    "name": "ipython",
    "version": 2
   },
   "file_extension": ".py",
   "mimetype": "text/x-python",
   "name": "python",
   "nbconvert_exporter": "python",
   "pygments_lexer": "ipython2",
   "version": "2.7.10"
  }
 },
 "nbformat": 4,
 "nbformat_minor": 2
}
