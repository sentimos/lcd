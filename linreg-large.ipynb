{
 "cells": [
  {
   "cell_type": "code",
   "execution_count": 1,
   "metadata": {
    "collapsed": true
   },
   "outputs": [],
   "source": [
    "import datetime\n",
    "import tensorflow as tf\n",
    "import numpy as np\n",
    "import matplotlib.pyplot as plt\n",
    "import matplotlib.image as mpimg\n",
    "\n",
    "# All images to be shown inside cells. \n",
    "%matplotlib inline\n",
    "# To help debugging eliminate ellipses whenever reasonable.\n",
    "np.set_printoptions(precision=3, edgeitems=5, linewidth=100)"
   ]
  },
  {
   "cell_type": "code",
   "execution_count": 2,
   "metadata": {
    "collapsed": true
   },
   "outputs": [],
   "source": [
    "class Lcd(object):\n",
    "  \"\"\"An LCD like display.\n",
    "  \"\"\"\n",
    "  \n",
    "  def __init__(self, size=8):\n",
    "    \"\"\"Creates a blank size x size LCD like display.\n",
    "    \"\"\"\n",
    "    self._size = size\n",
    "    self._half = size / 2  # half size of the display\n",
    "    self._last = size - 1  # index of the last row or col\n",
    "    self.clear()\n",
    "    \n",
    "  def clear(self):\n",
    "    \"\"\"Clears this display\"\"\"\n",
    "    self._display = np.zeros((self._size, self._size), dtype=np.int32)\n",
    "    \n",
    "  def display(self, digit):\n",
    "    \"\"\"Displays the given digit on the display.\n",
    "    \n",
    "    Args:\n",
    "      digit: number\n",
    "        the number to be shown on the display\n",
    "    Returns:\n",
    "      LCD this LCD display\n",
    "    \"\"\"\n",
    "    self.clear()\n",
    "    try:\n",
    "      getattr(self, \"_%s\" % str(digit))()\n",
    "      return self\n",
    "    except AttributeError as e:\n",
    "      raise NotImplementedError(\"Unable to render %s\" % str(digit))\n",
    "    \n",
    "  def copyTo(self, mat, x, y):\n",
    "    mat.fill(0)\n",
    "    mat[x : x + self._size, y : y + self._size] = self._display\n",
    "    return mat\n",
    "\n",
    "  def _hx3(self):\n",
    "    self._display[0, :] = 1\n",
    "    self._display[self._half, :] = 1\n",
    "    self._display[self._last, :] = 1\n",
    "    \n",
    "  def _0(self):\n",
    "    self._display[0, :] = 1\n",
    "    self._display[self._last, :] = 1\n",
    "    self._display[:, 0] = 1\n",
    "    self._display[:, self._last] = 1\n",
    "    \n",
    "  def _1(self):\n",
    "    self._display[:, self._last] = 1\n",
    "    \n",
    "  def _2(self):\n",
    "    self._hx3()\n",
    "    self._display[0 : self._half, self._last] = 1\n",
    "    self._display[self._half : self._size, 0] = 1\n",
    "    \n",
    "  def _3(self):\n",
    "    self._hx3()\n",
    "    self._display[:, self._last] = 1\n",
    "    \n",
    "  def _4(self):\n",
    "    self._display[0 : self._half, 0] = 1\n",
    "    self._display[self._half, :] = 1\n",
    "    self._display[:, self._last] = 1\n",
    "\n",
    "  def _5(self):\n",
    "    self._hx3()\n",
    "    self._display[0 : self._half, 0] = 1\n",
    "    self._display[self._half : self._size, self._last] = 1    \n",
    "    \n",
    "  def _6(self):\n",
    "    self._display[:, 0] = 1\n",
    "    self._display[self._half, :] = 1\n",
    "    self._display[self._last, :] = 1\n",
    "    self._display[self._half : self._size, self._last] = 1\n",
    "    \n",
    "  def _7(self):\n",
    "    self._display[0, :] = 1\n",
    "    self._display[:, self._last] = 1\n",
    "    \n",
    "  def _8(self):\n",
    "    self._0()\n",
    "    self._display[self._half, :] = 1\n",
    "    \n",
    "  def _9(self):\n",
    "    self._7()\n",
    "    self._display[self._half, :] = 1\n",
    "    self._display[0 : self._half, 0] = 1\n",
    "    \n",
    "  def __str__(self):\n",
    "    return str(self._display)"
   ]
  },
  {
   "cell_type": "code",
   "execution_count": 3,
   "metadata": {
    "collapsed": true
   },
   "outputs": [],
   "source": [
    "def GenerateImages(n, s, w, d):\n",
    "  \"\"\"Generates n images of size s inside w x w matrix.\n",
    "  \n",
    "  Args:\n",
    "    n: number\n",
    "      The total number of images to generate\n",
    "    s: number\n",
    "      The size of the LCD.\n",
    "    w: number\n",
    "      The width and height of the matrix holding LCDs\n",
    "    d: number\n",
    "      The number of digits.\n",
    "  Returns:\n",
    "    ([n, w, w], [n, d]) a pair of matrices with shapes and\n",
    "    a vector indicating the kind of the shape.\n",
    "  \"\"\"\n",
    "  if n <= 0:\n",
    "    return ([], [])\n",
    "  raster = np.zeros((n, w, w), dtype=np.float32)\n",
    "  kind = np.zeros((n, d))\n",
    "  lcd = Lcd(s)\n",
    "  for i in range(n):\n",
    "    digit = i % d\n",
    "    sx = np.random.randint(0, w - s + 1)\n",
    "    sy = np.random.randint(0, w - s + 1)\n",
    "    lcd.display(digit).copyTo(raster[i], sx, sy)\n",
    "    kind[i][digit] = 1\n",
    "  return (raster, kind)"
   ]
  },
  {
   "cell_type": "code",
   "execution_count": 4,
   "metadata": {
    "collapsed": true
   },
   "outputs": [],
   "source": [
    "def ShowAsImages(v, pred_kind, kind_name, w):\n",
    "  \"\"\"Shows a binary, flat raster as an image.\n",
    "  \n",
    "  Args:\n",
    "    v: np.array\n",
    "      an array of bits.\n",
    "    pred_kind: np.array\n",
    "      an array of ints indicating the predicted image kind.\n",
    "    kind_name: list[string]\n",
    "      A list that has a string corresponding to each kind index.\n",
    "    w: number\n",
    "      the width and height of the image\n",
    "  \"\"\"\n",
    "  n = len(v)\n",
    "  s = np.int(np.sqrt(n))\n",
    "  t = np.int(np.ceil(np.float(n) / s))\n",
    "  fig, axes = plt.subplots(s, t)\n",
    "  fig.set_size_inches(2 * s, 2 * s)\n",
    "  fig.subplots_adjust(hspace=.6, wspace=.3)\n",
    "  for i, ax in enumerate(axes.flat):\n",
    "    ax.set_xticks([])\n",
    "    ax.set_yticks([])\n",
    "    if i >= n:\n",
    "      ax.axison=False\n",
    "      continue\n",
    "    imgplot = ax.imshow(1 - v[i], cmap=plt.cm.binary)\n",
    "    ax.set_xlabel(kind_name[np.argmax(pred_kind[i])])\n",
    "  plt.show()"
   ]
  },
  {
   "cell_type": "code",
   "execution_count": 5,
   "metadata": {
    "collapsed": true
   },
   "outputs": [],
   "source": [
    "# When learning we break data into batches. \n",
    "class BatchMaker(object):\n",
    "  def __init__(self, img_data, kind, batch_size):\n",
    "    p = np.random.permutation(len(img_data))\n",
    "    self.img_data_ = img_data[p]\n",
    "    self.kind_ = kind[p]\n",
    "    self.batch_size_ = batch_size\n",
    "    self.row_count_ = len(img_data)\n",
    "    self.index_ = 0\n",
    "    \n",
    "  def next(self):\n",
    "    img_slice = self.img_data_[self.index_ : self.index_ + self.batch_size_]\n",
    "    kind_slice = self.kind_[self.index_ : self.index_ + self.batch_size_]\n",
    "    self.index_ += self.batch_size_\n",
    "    if self.index_ >= self.row_count_:\n",
    "      self.index_ = 0\n",
    "    return (img_slice, kind_slice)"
   ]
  },
  {
   "cell_type": "code",
   "execution_count": 6,
   "metadata": {
    "collapsed": true
   },
   "outputs": [],
   "source": [
    "# The width and the height of each image.\n",
    "img_size = 20\n",
    "\n",
    "# The size of each shape.\n",
    "shape_size = 5\n",
    "\n",
    "# The total number of training examples.\n",
    "example_count = 5000\n",
    "\n",
    "# The number of digits (one more than the maximum digit).\n",
    "kind_count = 10\n",
    "\n",
    "# The names or labels for each kind:\n",
    "kind_names = [str(x) for x in range(kind_count)]"
   ]
  },
  {
   "cell_type": "code",
   "execution_count": 7,
   "metadata": {
    "collapsed": true
   },
   "outputs": [],
   "source": [
    "img_data, true_kind = GenerateImages(example_count, shape_size, img_size, kind_count)"
   ]
  },
  {
   "cell_type": "code",
   "execution_count": 8,
   "metadata": {},
   "outputs": [
    {
     "data": {
      "image/png": "[encoded data removed]",
      "text/plain": [
       "<matplotlib.figure.Figure at 0x106505190>"
      ]
     },
     "metadata": {},
     "output_type": "display_data"
    }
   ],
   "source": [
    "# Show the initial data. We have no predicated kind, so we use\n",
    "# the true kind as both true and predicted kinds.\n",
    "ShowAsImages(img_data[0 : 20, :], true_kind[0 : 20], kind_names, img_size)"
   ]
  },
  {
   "cell_type": "code",
   "execution_count": 9,
   "metadata": {
    "collapsed": true
   },
   "outputs": [],
   "source": [
    "# Learning parameters:\n",
    "\n",
    "# The learning rate. Tells the optimizer how fast to follow the curve\n",
    "# of the plane.\n",
    "learning_rate = 0.03\n",
    "\n",
    "# The number of images we look at a single step.\n",
    "batch_size = 50\n",
    "\n",
    "# The total number of steps we are going to run the learning step\n",
    "step_count = 1000"
   ]
  },
  {
   "cell_type": "code",
   "execution_count": 10,
   "metadata": {
    "collapsed": true
   },
   "outputs": [],
   "source": [
    "# The placeholder for image bits. The first dimension is None to allow for any number\n",
    "# of images. Each linear image is converted back to img_size x img_size  matrix.\n",
    "x = tf.placeholder(tf.float32, shape=[None, img_size, img_size], name='x')\n",
    "# Reshape the 2D images to a flat vector.\n",
    "x_flat = tf.reshape(x, [-1, img_size * img_size], name=\"x_flat\")\n",
    "\n",
    "# The placeholder for true classes. This is what is going to drive neural network\n",
    "# towards the correct solution.\n",
    "y_true = tf.placeholder(tf.float32, shape=[None, kind_count], name='y_true')\n",
    "\n",
    "# Simple model. Multiply each flattened image by (img_size * img_size) x kind_count\n",
    "# matrix. This produces a vector of size kind_count. Add bias to this vector and then\n",
    "# use softmax cross entropy to assign a unique class to each result.\n",
    "W = tf.Variable(tf.zeros([img_size * img_size, kind_count]), name=\"W\")\n",
    "b = tf.Variable(tf.zeros([kind_count]), name=\"b\")\n",
    "\n",
    "# Here y is the result of multiplying image data by weight matrix plus bias vector.\n",
    "y_pred = tf.matmul(x_flat, W) + b\n",
    "# The loss function tries to reduce mean between true labels and computed labels.\n",
    "loss_op = tf.reduce_mean(\n",
    "    tf.nn.softmax_cross_entropy_with_logits(labels=y_true, logits=y_pred))\n",
    "\n",
    "# The training step uses simple gradient descent that tries to minimize loss_fn.\n",
    "# It takes\n",
    "train_op = tf.train.GradientDescentOptimizer(learning_rate).minimize(loss_op)\n",
    "\n",
    "# Compute how many answers we got right.\n",
    "correct_prediction = tf.equal(tf.argmax(y_pred, 1), tf.argmax(y_true, 1))\n",
    "# Compute accuracy as the number of correct predictions / total number of predictions.\n",
    "accuracy_op = tf.reduce_mean(tf.cast(correct_prediction, tf.float32))"
   ]
  },
  {
   "cell_type": "code",
   "execution_count": 11,
   "metadata": {
    "collapsed": true
   },
   "outputs": [],
   "source": [
    "sess = tf.InteractiveSession()\n",
    "sess.run(tf.global_variables_initializer())\n",
    "batch_maker = BatchMaker(img_data, true_kind, batch_size)"
   ]
  },
  {
   "cell_type": "code",
   "execution_count": 12,
   "metadata": {},
   "outputs": [
    {
     "name": "stdout",
     "output_type": "stream",
     "text": [
      "Accuracy 0.1478\n"
     ]
    },
    {
     "data": {
      "image/png": "[encoded data removed]",
      "text/plain": [
       "<matplotlib.figure.Figure at 0x111381650>"
      ]
     },
     "metadata": {},
     "output_type": "display_data"
    }
   ],
   "source": [
    "# Run the learning algorithm for 5 steps. Compute\n",
    "# accuracy and print some predictions.\n",
    "for _ in range(5):\n",
    "  img_batch, label_batch = batch_maker.next()\n",
    "  train_op.run(feed_dict={x: img_batch, y_true: label_batch})\n",
    "  \n",
    "# Compute current predictions.\n",
    "pred_kind = sess.run(y_pred, feed_dict={x: img_data})\n",
    "  \n",
    "print \"Accuracy\", accuracy_op.eval(feed_dict={x: img_data, y_true: true_kind})\n",
    "ShowAsImages(img_data[0 : 16, :],  pred_kind[0 : 16], kind_names, img_size)"
   ]
  },
  {
   "cell_type": "code",
   "execution_count": 13,
   "metadata": {
    "collapsed": true
   },
   "outputs": [],
   "source": [
    "# Run the algorithm for the remaining step_count - 5 steps we already did.\n",
    "for _ in range(step_count - 5):\n",
    "  img_batch, label_batch = batch_maker.next()\n",
    "  train_op.run(feed_dict={x: img_batch, y_true: label_batch})\n",
    "# Compute final predictions.\n",
    "pred_kind = y_pred.eval(feed_dict={x: img_data})\n",
    "# Compute final weight and biases.\n",
    "W_final = sess.run(W)\n",
    "b_final = sess.run(b)"
   ]
  },
  {
   "cell_type": "code",
   "execution_count": 14,
   "metadata": {},
   "outputs": [
    {
     "name": "stdout",
     "output_type": "stream",
     "text": [
      "Accuracy 0.3168\n"
     ]
    },
    {
     "data": {
      "image/png": "[encoded data removed]",
      "text/plain": [
       "<matplotlib.figure.Figure at 0x1113ce990>"
      ]
     },
     "metadata": {},
     "output_type": "display_data"
    }
   ],
   "source": [
    "print \"Accuracy\", accuracy_op.eval(feed_dict={x: img_data, y_true: true_kind})\n",
    "ShowAsImages(img_data[0 : 16, :], pred_kind[0 : 16], kind_names, img_size)"
   ]
  },
  {
   "cell_type": "code",
   "execution_count": 15,
   "metadata": {
    "collapsed": true
   },
   "outputs": [],
   "source": [
    "# Compute confusion matrix. If there are any errors, this shows us\n",
    "# What confuses the model. For example, initially 3 and 8 might be\n",
    "# considered very close.\n",
    "cm = sess.run(tf.contrib.metrics.confusion_matrix(tf.argmax(pred_kind, 1), \n",
    "                                                  tf.argmax(true_kind, 1)))"
   ]
  },
  {
   "cell_type": "code",
   "execution_count": 16,
   "metadata": {},
   "outputs": [
    {
     "name": "stdout",
     "output_type": "stream",
     "text": [
      "[[147   0  40  52  38  49  48  48  52  53]\n",
      " [  0 450   0   2  27   0   0  67   0   6]\n",
      " [ 76   0 149  87  36  79  77  33  69  70]\n",
      " [ 87   0  77 156  77  94  74  34  87  78]\n",
      " [  5   8   0   0  91   2  11  54   0  10]\n",
      " [ 41   0  65  60  50  91  52  22  65  71]\n",
      " [ 36   0  45  31  57  44 127  50  23  46]\n",
      " [  0  42   0   0  14   0   0  93   0   5]\n",
      " [ 85   0  99  99  62 112  77  31 189  70]\n",
      " [ 23   0  25  13  48  29  34  68  15  91]]\n"
     ]
    },
    {
     "data": {
      "image/png": "[encoded data removed]",
      "text/plain": [
       "<matplotlib.figure.Figure at 0x11571b7d0>"
      ]
     },
     "metadata": {},
     "output_type": "display_data"
    }
   ],
   "source": [
    "# Show the confusion matrix. We both show numeric values and\n",
    "# heatmap representation.\n",
    "print cm\n",
    "cm_img = np.divide(cm.astype(np.float32), cm.sum(axis=1).reshape((kind_count, 1)), where=cm != 0)\n",
    "_ = plt.imshow(cm_img, interpolation='nearest', cmap=plt.cm.Blues)"
   ]
  },
  {
   "cell_type": "code",
   "execution_count": 24,
   "metadata": {
    "collapsed": true
   },
   "outputs": [],
   "source": [
    "def Explain(W):\n",
    "  \"\"\"Produces a series of images that explain how W favors given digit.\n",
    "  \n",
    "  Args:\n",
    "    W: np.array((s * s, 10))\n",
    "      The weights array.\n",
    "  \"\"\"\n",
    "  fig, axes = plt.subplots(3, 4)\n",
    "  fig.set_size_inches(9, 6)\n",
    "  fig.subplots_adjust(hspace=.6, wspace=.3)\n",
    "  w = np.int(np.sqrt(W.shape[0]))\n",
    "  for i, ax in enumerate(axes.flat):\n",
    "    ax.set_xticks([])\n",
    "    ax.set_yticks([])\n",
    "    if i > 9:\n",
    "      ax.axison=False\n",
    "      continue\n",
    "    v = W[:, i]\n",
    "    # Pick the column that explains digit, reshaped as display.\n",
    "    dm = v.reshape((w, w))\n",
    "    # Plot digit matrix normalized between 0 .. 1\n",
    "    imgplot = ax.imshow((dm - dm.min()) / (dm.max() - dm.min()),\n",
    "                        cmap=plt.cm.bwr)\n",
    "    ax.set_xlabel(str(i))\n",
    "  plt.show()"
   ]
  },
  {
   "cell_type": "code",
   "execution_count": 25,
   "metadata": {},
   "outputs": [
    {
     "data": {
      "image/png": "[encoded data removed]",
      "text/plain": [
       "<matplotlib.figure.Figure at 0x115ff11d0>"
      ]
     },
     "metadata": {},
     "output_type": "display_data"
    }
   ],
   "source": [
    "Explain(W_final)"
   ]
  },
  {
   "cell_type": "code",
   "execution_count": 19,
   "metadata": {
    "collapsed": true
   },
   "outputs": [],
   "source": [
    "img_test, kind_test = GenerateImages(50, shape_size, img_size, kind_count)"
   ]
  },
  {
   "cell_type": "code",
   "execution_count": 20,
   "metadata": {},
   "outputs": [
    {
     "name": "stdout",
     "output_type": "stream",
     "text": [
      "Test image accuracy 0.24\n"
     ]
    }
   ],
   "source": [
    "print \"Test image accuracy\", accuracy_op.eval(feed_dict={x: img_test, y_true: kind_test})"
   ]
  },
  {
   "cell_type": "code",
   "execution_count": 21,
   "metadata": {
    "collapsed": true
   },
   "outputs": [],
   "source": [
    "sess.close()"
   ]
  }
 ],
 "metadata": {
  "kernelspec": {
   "display_name": "Python 2",
   "language": "python",
   "name": "python2"
  },
  "language_info": {
   "codemirror_mode": {
    "name": "ipython",
    "version": 2
   },
   "file_extension": ".py",
   "mimetype": "text/x-python",
   "name": "python",
   "nbconvert_exporter": "python",
   "pygments_lexer": "ipython2",
   "version": "2.7.10"
  }
 },
 "nbformat": 4,
 "nbformat_minor": 2
}
